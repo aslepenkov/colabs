{
 "cells": [
  {
   "cell_type": "code",
   "execution_count": null,
   "metadata": {},
   "outputs": [],
   "source": [
    "from urllib.request import urlretrieve\n",
    "from google.colab import files\n",
    "import os\n",
    "\n",
    "url = 'https://us.download.nvidia.com/Windows/546.01/546.01-notebook-win10-win11-64bit-international-dch-whql.exe' #@param\n",
    "filename = os.path.basename(url)\n",
    "\n",
    "urlretrieve(url, filename)\n",
    "files.download(filename)"
   ]
  }
 ],
 "metadata": {
  "language_info": {
   "name": "python"
  }
 },
 "nbformat": 4,
 "nbformat_minor": 2
}
