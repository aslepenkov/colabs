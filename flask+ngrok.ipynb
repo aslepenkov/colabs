{
 "cells": [
  {
   "cell_type": "code",
   "execution_count": null,
   "metadata": {},
   "outputs": [],
   "source": [
    "!pip install flask pyngrok\n",
    "\n",
    "import os\n",
    "from flask import Flask\n",
    "from pyngrok import ngrok\n",
    "from pyngrok import conf\n",
    "from google.colab import userdata\n",
    "\n",
    "os.environ[\"NGROK_API_KEY\"] = userdata.get(\"NGROK_API_KEY\")\n",
    "conf.get_default().auth_token = os.environ[\"NGROK_API_KEY\"]\n",
    "\n",
    "public_url = \"\"\n",
    "app = Flask(__name__)\n",
    "\n",
    "@app.route('/')\n",
    "def hello():\n",
    "    return 'Hello, World!'\n",
    "\n",
    "if __name__ == '__main__':\n",
    "    try:\n",
    "      # Open an HTTP tunnel on the port your app will be running on\n",
    "      public_url = ngrok.connect(5000, \"http\")\n",
    "      print(f\" * ngrok tunnel \\\"{public_url}\\\" -> \\\"http://127.0.0.1:5000\\\"\")\n",
    "      \n",
    "      # Run the Flask app\n",
    "      app.run()\n",
    "    finally:\n",
    "        # Disconnect the ngrok tunnel\n",
    "        ngrok.kill()\n",
    "\n"
   ]
  }
 ],
 "metadata": {
  "language_info": {
   "name": "python"
  }
 },
 "nbformat": 4,
 "nbformat_minor": 2
}
