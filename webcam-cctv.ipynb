{
 "cells": [
  {
   "cell_type": "code",
   "execution_count": null,
   "metadata": {},
   "outputs": [],
   "source": [
    "!pip install opencv-python\n",
    "\n",
    "import cv2 \n",
    "import time\n",
    "import os\n",
    "\n",
    "# Set the time interval in seconds for capturing photos \n",
    "interval = 5\n",
    "\n",
    "# Set the storage folder path\n",
    "folder_path = 'C:\\\\CCTV'\n",
    "\n",
    "# Check if the storage folder exists, otherwise create it\n",
    "if not os.path.exists(folder_path):\n",
    "    os.makedirs(folder_path)\n",
    "\n",
    "# Start capturing video from webcam \n",
    "video = cv2.VideoCapture(0)\n",
    "\n",
    "# Keep capturing until Ctrl+C is pressed   \n",
    "while True:\n",
    "\n",
    "    # Read the current frame\n",
    "    ret, frame = video.read()\n",
    "\n",
    "    # Convert the frame to grayscale\n",
    "    gray = cv2.cvtColor(frame, cv2.COLOR_BGR2GRAY)\n",
    "\n",
    "    # Save the grayscale frame as JPEG in the CCTV folder\n",
    "    cv2.imwrite(os.path.join(folder_path, str(time.time()) + '.jpg'), gray)\n",
    "\n",
    "    # Wait for the specified time interval\n",
    "    time.sleep(interval)\n",
    "\n"
   ]
  },
  {
   "cell_type": "code",
   "execution_count": null,
   "metadata": {},
   "outputs": [],
   "source": []
  }
 ],
 "metadata": {
  "language_info": {
   "name": "python"
  }
 },
 "nbformat": 4,
 "nbformat_minor": 2
}
