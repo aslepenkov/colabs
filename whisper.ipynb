{
 "cells": [
  {
   "cell_type": "code",
   "execution_count": null,
   "id": "bb9acba8",
   "metadata": {
    "vscode": {
     "languageId": "plaintext"
    }
   },
   "outputs": [],
   "source": [
    "# Install dependencies\n",
    "!pip install -q git+https://github.com/openai/whisper.git\n",
    "!pip install -q torchaudio\n",
    "!apt-get -qq install ffmpeg\n",
    "\n",
    "import whisper\n",
    "import torchaudio\n",
    "import os\n",
    "from google.colab import files\n",
    "from IPython.display import display, Markdown\n",
    "import ipywidgets as widgets\n",
    "\n",
    "# Upload audio\n",
    "upload_button = widgets.FileUpload(accept='.mp3,.wav,.m4a,.webm', multiple=False)\n",
    "display(Markdown(\"## Upload your audio file:\"))\n",
    "display(upload_button)\n",
    "\n",
    "# Transcribe button\n",
    "transcribe_button = widgets.Button(description=\"Transcribe\", button_style='primary')\n",
    "output = widgets.Output()\n",
    "display(transcribe_button, output)\n",
    "\n",
    "def transcribe_audio(b):\n",
    "    with output:\n",
    "        output.clear_output()\n",
    "        if not upload_button.value:\n",
    "            print(\"Please upload a file.\")\n",
    "            return\n",
    "\n",
    "        # Save uploaded file\n",
    "        for filename, file_info in upload_button.value.items():\n",
    "            path = filename\n",
    "            with open(path, 'wb') as f:\n",
    "                f.write(file_info['content'])\n",
    "\n",
    "        print(f\"Transcribing: {filename}\")\n",
    "        model = whisper.load_model(\"large\")\n",
    "        result = model.transcribe(path)\n",
    "        transcript = result[\"text\"]\n",
    "\n",
    "        # Save and offer .txt file\n",
    "        txt_path = filename + \".txt\"\n",
    "        with open(txt_path, 'w') as f:\n",
    "            f.write(transcript)\n",
    "\n",
    "        print(\"Transcription complete:\")\n",
    "        display(Markdown(f\"### Transcript:\\n\\n```\\n{transcript}\\n```\"))\n",
    "        files.download(txt_path)\n",
    "\n",
    "transcribe_button.on_click(transcribe_audio)\n"
   ]
  }
 ],
 "metadata": {
  "language_info": {
   "name": "python"
  }
 },
 "nbformat": 4,
 "nbformat_minor": 5
}
